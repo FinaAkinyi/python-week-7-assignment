{
 "cells": [
  {
   "cell_type": "markdown",
   "id": "78f3e2af",
   "metadata": {},
   "source": [
    "# Student Performance Data Analysis\n",
    "---\n",
   
   ]
  },
  {
   "cell_type": "markdown",
   "id": "976fbb41",
   "metadata": {},
   "source": [
    "## Task 1: Load and Explore the Dataset"
   ]
  },
  {
   "cell_type": "code",
   "execution_count": null,
   "id": "8f1b6232",
   "metadata": {},
   "outputs": [],
   "source": [
    "import pandas as pd\n",
    "import zipfile\n",
    "from io import BytesIO\n",
    "import matplotlib.pyplot as plt\n",
    "\n",
    "# Load outer ZIP\n",
    "with zipfile.ZipFile(\"student+performance.zip\", \"r\") as outer_zip:\n",
    "    with outer_zip.open(\"student.zip\") as inner_zip_file:\n",
    "        inner_zip_bytes = BytesIO(inner_zip_file.read())\n",
    "\n",
    "# Load inner ZIP\n",
    "with zipfile.ZipFile(inner_zip_bytes, \"r\") as inner_zip:\n",
    "    with inner_zip.open(\"student-mat.csv\") as file:\n",
    "        df = pd.read_csv(file, sep=\";\")\n",
    "\n",
    "df.head()"
   ]
  },
  {
   "cell_type": "markdown",
   "id": "5ee563f3",
   "metadata": {},
   "source": [
    "## Task 2: Basic Data Analysis"
   ]
  },
  {
   "cell_type": "code",
   "execution_count": null,
   "id": "9932d642",
   "metadata": {},
   "outputs": [],
   "source": [
    "# Basic statistics\n",
    "print(df.describe())\n",
    "\n",
    "# Median\n",
    "print(\"Median values:\")\n",
    "print(df.median(numeric_only=True))\n",
    "\n",
    "# Grouping: Average absences by gender\n",
    "print(\"Average absences by gender:\")\n",
    "print(df.groupby('sex')['absences'].mean())\n",
    "\n",
    "# Grouping: Average final grade by study time\n",
    "print(\"Average G3 by study time:\")\n",
    "print(df.groupby('studytime')['G3'].mean())"
   ]
  },
  {
   "cell_type": "markdown",
   "id": "6ad5ff74",
   "metadata": {},
   "source": [
    "## Task 3: Data Visualization"
   ]
  },
  {
   "cell_type": "code",
   "execution_count": null,
   "id": "d84e7f4e",
   "metadata": {},
   "outputs": [],
   "source": [
    "# Line chart: G3 over student index\n",
    "plt.figure(figsize=(10, 4))\n",
    "plt.plot(df.index, df['G3'], marker='o')\n",
    "plt.title('Final Grade (G3) Trend by Record Index')\n",
    "plt.xlabel('Index')\n",
    "plt.ylabel('Final Grade')\n",
    "plt.grid(True)\n",
    "plt.show()\n",
    "\n",
    "# Bar chart: average G3 by sex\n",
    "avg_grades_by_sex = df.groupby('sex')['G3'].mean()\n",
    "avg_grades_by_sex.plot(kind='bar', color=['skyblue', 'salmon'])\n",
    "plt.title('Average Final Grade (G3) by Gender')\n",
    "plt.xlabel('Gender')\n",
    "plt.ylabel('Average Grade')\n",
    "plt.grid(axis='y')\n",
    "plt.show()\n",
    "\n",
    "# Histogram of G3\n",
    "plt.hist(df['G3'], bins=15, color='teal', edgecolor='black')\n",
    "plt.title('Distribution of Final Grades (G3)')\n",
    "plt.xlabel('Final Grade')\n",
    "plt.ylabel('Number of Students')\n",
    "plt.grid(axis='y')\n",
    "plt.show()\n",
    "\n",
    "# Scatter plot: G1 vs G3\n",
    "plt.scatter(df['G1'], df['G3'], alpha=0.6, color='purple', edgecolors='w')\n",
    "plt.title('G1 vs G3')\n",
    "plt.xlabel('First Period Grade')\n",
    "plt.ylabel('Final Grade')\n",
    "plt.grid(True)\n",
    "plt.show()"
   ]
  }
 ],
 "metadata": {},
 "nbformat": 4,
 "nbformat_minor": 5
}
